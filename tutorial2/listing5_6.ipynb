{
 "cells": [
  {
   "cell_type": "code",
   "execution_count": 9,
   "id": "d561b23f-6feb-48ca-984f-e2102b891dda",
   "metadata": {},
   "outputs": [
    {
     "name": "stderr",
     "output_type": "stream",
     "text": [
      "I0614 18:22:26.793436     302 request.go:668] Waited for 1.175871858s due to client-side throttling, not priority and fairness, request: GET:https://172.30.0.1:443/apis/template.openshift.io/v1?timeout=32s\n",
      "I0614 18:22:36.993238     302 request.go:668] Waited for 11.3753377s due to client-side throttling, not priority and fairness, request: GET:https://172.30.0.1:443/apis/argoproj.io/v1alpha1?timeout=32s\n"
     ]
    },
    {
     "name": "stdout",
     "output_type": "stream",
     "text": [
      "inferenceservice.serving.kserve.io/huggingface created\n"
     ]
    }
   ],
   "source": [
    "%%bash\n",
    "NAMESPACE=`cat /var/run/secrets/kubernetes.io/serviceaccount/namespace`\n",
    "cat <<EOF | kubectl apply -n $NAMESPACE -f -\n",
    "apiVersion: \"serving.kserve.io/v1beta1\"\n",
    "kind: \"InferenceService\"\n",
    "metadata:\n",
    "  name: \"huggingface\"\n",
    "  annotations:\n",
    "    sidecar.istio.io/inject: \"false\"\n",
    "    # https://github.com/istio/istio/issues/23802\n",
    "    traffic.sidecar.istio.io/excludeOutboundIPRanges: 0.0.0.0/0\n",
    "spec:\n",
    "  predictor:\n",
    "    containers:\n",
    "      - name: huggingface\n",
    "        image: mtr.devops.telekom.de/ai/huggingface:latest\n",
    "        resources:\n",
    "          limits:\n",
    "            cpu: '1'\n",
    "            memory: 20Gi\n",
    "          requests:\n",
    "            cpu: '1'\n",
    "            memory: 20Gi        \n",
    "EOF"
   ]
  },
  {
   "cell_type": "code",
   "execution_count": null,
   "id": "45d28321-2a1a-4d3d-9bba-620c8f0a656e",
   "metadata": {},
   "outputs": [],
   "source": []
  },
  {
   "cell_type": "code",
   "execution_count": 1,
   "id": "de7af836-746e-4c1e-8bd8-0b6b46142876",
   "metadata": {},
   "outputs": [
    {
     "name": "stderr",
     "output_type": "stream",
     "text": [
      "I0608 08:30:37.709831     807 request.go:668] Waited for 1.173352545s due to client-side throttling, not priority and fairness, request: GET:https://172.30.0.1:443/apis/crunchydata.com/v1?timeout=32s\n",
      "I0608 08:30:47.710221     807 request.go:668] Waited for 11.173284038s due to client-side throttling, not priority and fairness, request: GET:https://172.30.0.1:443/apis/psmdb.percona.com/v1-3-0?timeout=32s\n"
     ]
    },
    {
     "name": "stdout",
     "output_type": "stream",
     "text": [
      "huggingface-predictor-default-00001\n",
      "huggingface-predictor-default-00001\n"
     ]
    }
   ],
   "source": [
    "%%bash\n",
    "NAMESPACE=`cat /var/run/secrets/kubernetes.io/serviceaccount/namespace`\n",
    "for i in {1..12}\n",
    "do\n",
    "   STATE=`kubectl -n $NAMESPACE get inferenceservice huggingface -o=jsonpath='{.status.components.predictor.latestReadyRevision}'`\n",
    "   echo -e \"$STATE\"\n",
    "   if [[ \"$STATE\" == \"\" ]]; then echo -e \"not ready\"; fi\n",
    "   if [[ \"$STATE\" != \"\" ]]; then echo \"$STATE\"; break; fi\n",
    "   sleep 10s\n",
    "done"
   ]
  },
  {
   "cell_type": "code",
   "execution_count": 2,
   "id": "b1f475af-c29b-4448-8488-7144e40613b8",
   "metadata": {},
   "outputs": [
    {
     "name": "stdout",
     "output_type": "stream",
     "text": [
      "Writing huggingface-input.json\n"
     ]
    }
   ],
   "source": [
    "%%writefile huggingface-input.json\n",
    "{    \"instances\":[  \n",
    "    \t{\n",
    "    \t\t\"text\": \"Transformers (formerly known as pytorch-transformers and pytorch-pretrained-bert) provides general-purpose architectures (BERT, GPT-2, RoBERTa, XLM, DistilBert, XLNet…) for Natural Language Understanding (NLU) and Natural Language Generation (NLG) with over 32+ pretrained models in 100+ languages and deep interoperability between TensorFlow 2.0 and PyTorch.\",\n",
    "          \"questions\":[\n",
    "\t\t    \"How many pretrained models are available in Transformers?\",\n",
    "\t\t    \"What does Transformers provide?\",\n",
    "\t\t    \"Transformers provides interoperability between which frameworks?\"\n",
    "          ]\n",
    "       }\n",
    "    ]\n",
    "}"
   ]
  },
  {
   "cell_type": "code",
   "execution_count": 1,
   "id": "410ce9a4-f5ff-48d1-acb0-88bbc53e69c9",
   "metadata": {},
   "outputs": [
    {
     "name": "stderr",
     "output_type": "stream",
     "text": [
      "  % Total    % Received % Xferd  Average Speed   Time    Time     Time  Current\n",
      "                                 Dload  Upload   Total   Spent    Left  Speed\n",
      "100   890  100   260  100   630     27     67  0:00:09  0:00:09 --:--:--    62\n"
     ]
    },
    {
     "name": "stdout",
     "output_type": "stream",
     "text": [
      "{\"predictions\": {\"How many pretrained models are available in Transformers?\": \"over 32 +\", \"What does Transformers provide?\": \"general - purpose architectures\", \"Transformers provides interoperability between which frameworks?\": \"tensorflow 2. 0 and pytorch\"}}"
     ]
    }
   ],
   "source": [
    "%%bash\n",
    "NAMESPACE=`cat /var/run/secrets/kubernetes.io/serviceaccount/namespace`\n",
    "INFERENCESERVICE=huggingface\n",
    "SERVICE_HOSTNAME=$INFERENCESERVICE.$NAMESPACE.svc.cluster.local\n",
    "GATEWAY='http://knative-local-gateway.istio-system.svc.cluster.local'\n",
    "curl -H \"Host: ${SERVICE_HOSTNAME}\" \\\n",
    "    $GATEWAY/v1/models/$INFERENCESERVICE:predict -d @huggingface-input.json"
   ]
  },
  {
   "cell_type": "code",
   "execution_count": null,
   "id": "e6c10921-85c4-4e21-9e5f-ae3d765ffc05",
   "metadata": {},
   "outputs": [],
   "source": []
  }
 ],
 "metadata": {
  "kernelspec": {
   "display_name": "Python 3 (ipykernel)",
   "language": "python",
   "name": "python3"
  },
  "language_info": {
   "codemirror_mode": {
    "name": "ipython",
    "version": 3
   },
   "file_extension": ".py",
   "mimetype": "text/x-python",
   "name": "python",
   "nbconvert_exporter": "python",
   "pygments_lexer": "ipython3",
   "version": "3.9.7"
  }
 },
 "nbformat": 4,
 "nbformat_minor": 5
}
