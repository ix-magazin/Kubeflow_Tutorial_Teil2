{
 "cells": [
  {
   "cell_type": "code",
   "execution_count": null,
   "id": "1428c226-66a8-4c32-bda4-de2e1e583369",
   "metadata": {},
   "outputs": [],
   "source": [
    "%%writefile iris-input.json\n",
    "{\n",
    "  \"instances\": [\n",
    "    [6.8,  2.8,  4.8,  1.4],\n",
    "    [6.0,  3.4,  4.5,  1.6]\n",
    "  ]\n",
    "}\n"
   ]
  },
  {
   "cell_type": "code",
   "execution_count": null,
   "id": "4c178a6f-485b-4909-9e7e-873c15b483da",
   "metadata": {},
   "outputs": [],
   "source": [
    "%%bash\n",
    "NAMESPACE=`cat /var/run/secrets/kubernetes.io/serviceaccount/namespace`\n",
    "INFERENCESERVICE=kserve-iris\n",
    "SERVICE_HOSTNAME=$INFERENCESERVICE.$NAMESPACE.svc.cluster.local\n",
    "GATEWAY='http://knative-local-gateway.istio-system.svc.cluster.local'\n",
    "curl -H \"Host: ${SERVICE_HOSTNAME}\" \\\n",
    "    $GATEWAY/v1/models/$INFERENCESERVICE:predict -d @iris-input.json\n"
   ]
  },
  {
   "cell_type": "code",
   "execution_count": null,
   "id": "884253e6-41ec-4f39-8a55-51f9e296a46e",
   "metadata": {},
   "outputs": [],
   "source": [
    "# Antwort des Endpunktes\n",
    "# {\"predictions\": [1, 1]}\n"
   ]
  }
 ],
 "metadata": {
  "kernelspec": {
   "display_name": "Python 3 (ipykernel)",
   "language": "python",
   "name": "python3"
  },
  "language_info": {
   "codemirror_mode": {
    "name": "ipython",
    "version": 3
   },
   "file_extension": ".py",
   "mimetype": "text/x-python",
   "name": "python",
   "nbconvert_exporter": "python",
   "pygments_lexer": "ipython3",
   "version": "3.9.7"
  }
 },
 "nbformat": 4,
 "nbformat_minor": 5
}
